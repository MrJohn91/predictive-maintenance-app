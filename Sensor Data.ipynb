{
 "cells": [
  {
   "cell_type": "markdown",
   "metadata": {},
   "source": [
    "### Understanding the Data"
   ]
  },
  {
   "cell_type": "code",
   "execution_count": 202,
   "metadata": {},
   "outputs": [],
   "source": [
    "import pandas as pd\n",
    "\n",
    "file_path = '/Users/vee/Desktop/WBS/WBSFinal Project/engine_data.csv'\n",
    "\n",
    "df = pd.read_csv(file_path)"
   ]
  },
  {
   "cell_type": "code",
   "execution_count": 133,
   "metadata": {},
   "outputs": [
    {
     "data": {
      "text/html": [
       "<div>\n",
       "<style scoped>\n",
       "    .dataframe tbody tr th:only-of-type {\n",
       "        vertical-align: middle;\n",
       "    }\n",
       "\n",
       "    .dataframe tbody tr th {\n",
       "        vertical-align: top;\n",
       "    }\n",
       "\n",
       "    .dataframe thead th {\n",
       "        text-align: right;\n",
       "    }\n",
       "</style>\n",
       "<table border=\"1\" class=\"dataframe\">\n",
       "  <thead>\n",
       "    <tr style=\"text-align: right;\">\n",
       "      <th></th>\n",
       "      <th>Engine rpm</th>\n",
       "      <th>Lub oil pressure</th>\n",
       "      <th>Fuel pressure</th>\n",
       "      <th>Coolant pressure</th>\n",
       "      <th>lub oil temp</th>\n",
       "      <th>Coolant temp</th>\n",
       "      <th>Engine Condition</th>\n",
       "    </tr>\n",
       "  </thead>\n",
       "  <tbody>\n",
       "    <tr>\n",
       "      <th>0</th>\n",
       "      <td>700</td>\n",
       "      <td>2.493592</td>\n",
       "      <td>11.790927</td>\n",
       "      <td>3.178981</td>\n",
       "      <td>84.144163</td>\n",
       "      <td>81.632187</td>\n",
       "      <td>1</td>\n",
       "    </tr>\n",
       "    <tr>\n",
       "      <th>1</th>\n",
       "      <td>876</td>\n",
       "      <td>2.941606</td>\n",
       "      <td>16.193866</td>\n",
       "      <td>2.464504</td>\n",
       "      <td>77.640934</td>\n",
       "      <td>82.445724</td>\n",
       "      <td>0</td>\n",
       "    </tr>\n",
       "    <tr>\n",
       "      <th>2</th>\n",
       "      <td>520</td>\n",
       "      <td>2.961746</td>\n",
       "      <td>6.553147</td>\n",
       "      <td>1.064347</td>\n",
       "      <td>77.752266</td>\n",
       "      <td>79.645777</td>\n",
       "      <td>1</td>\n",
       "    </tr>\n",
       "    <tr>\n",
       "      <th>3</th>\n",
       "      <td>473</td>\n",
       "      <td>3.707835</td>\n",
       "      <td>19.510172</td>\n",
       "      <td>3.727455</td>\n",
       "      <td>74.129907</td>\n",
       "      <td>71.774629</td>\n",
       "      <td>1</td>\n",
       "    </tr>\n",
       "    <tr>\n",
       "      <th>4</th>\n",
       "      <td>619</td>\n",
       "      <td>5.672919</td>\n",
       "      <td>15.738871</td>\n",
       "      <td>2.052251</td>\n",
       "      <td>78.396989</td>\n",
       "      <td>87.000225</td>\n",
       "      <td>0</td>\n",
       "    </tr>\n",
       "    <tr>\n",
       "      <th>...</th>\n",
       "      <td>...</td>\n",
       "      <td>...</td>\n",
       "      <td>...</td>\n",
       "      <td>...</td>\n",
       "      <td>...</td>\n",
       "      <td>...</td>\n",
       "      <td>...</td>\n",
       "    </tr>\n",
       "    <tr>\n",
       "      <th>19530</th>\n",
       "      <td>902</td>\n",
       "      <td>4.117296</td>\n",
       "      <td>4.981360</td>\n",
       "      <td>4.346564</td>\n",
       "      <td>75.951627</td>\n",
       "      <td>87.925087</td>\n",
       "      <td>1</td>\n",
       "    </tr>\n",
       "    <tr>\n",
       "      <th>19531</th>\n",
       "      <td>694</td>\n",
       "      <td>4.817720</td>\n",
       "      <td>10.866701</td>\n",
       "      <td>6.186689</td>\n",
       "      <td>75.281430</td>\n",
       "      <td>74.928459</td>\n",
       "      <td>1</td>\n",
       "    </tr>\n",
       "    <tr>\n",
       "      <th>19532</th>\n",
       "      <td>684</td>\n",
       "      <td>2.673344</td>\n",
       "      <td>4.927376</td>\n",
       "      <td>1.903572</td>\n",
       "      <td>76.844940</td>\n",
       "      <td>86.337345</td>\n",
       "      <td>1</td>\n",
       "    </tr>\n",
       "    <tr>\n",
       "      <th>19533</th>\n",
       "      <td>696</td>\n",
       "      <td>3.094163</td>\n",
       "      <td>8.291816</td>\n",
       "      <td>1.221729</td>\n",
       "      <td>77.179693</td>\n",
       "      <td>73.624396</td>\n",
       "      <td>1</td>\n",
       "    </tr>\n",
       "    <tr>\n",
       "      <th>19534</th>\n",
       "      <td>504</td>\n",
       "      <td>3.775246</td>\n",
       "      <td>3.962480</td>\n",
       "      <td>2.038647</td>\n",
       "      <td>75.564313</td>\n",
       "      <td>80.421421</td>\n",
       "      <td>1</td>\n",
       "    </tr>\n",
       "  </tbody>\n",
       "</table>\n",
       "<p>19535 rows × 7 columns</p>\n",
       "</div>"
      ],
      "text/plain": [
       "       Engine rpm  Lub oil pressure  Fuel pressure  Coolant pressure  \\\n",
       "0             700          2.493592      11.790927          3.178981   \n",
       "1             876          2.941606      16.193866          2.464504   \n",
       "2             520          2.961746       6.553147          1.064347   \n",
       "3             473          3.707835      19.510172          3.727455   \n",
       "4             619          5.672919      15.738871          2.052251   \n",
       "...           ...               ...            ...               ...   \n",
       "19530         902          4.117296       4.981360          4.346564   \n",
       "19531         694          4.817720      10.866701          6.186689   \n",
       "19532         684          2.673344       4.927376          1.903572   \n",
       "19533         696          3.094163       8.291816          1.221729   \n",
       "19534         504          3.775246       3.962480          2.038647   \n",
       "\n",
       "       lub oil temp  Coolant temp  Engine Condition  \n",
       "0         84.144163     81.632187                 1  \n",
       "1         77.640934     82.445724                 0  \n",
       "2         77.752266     79.645777                 1  \n",
       "3         74.129907     71.774629                 1  \n",
       "4         78.396989     87.000225                 0  \n",
       "...             ...           ...               ...  \n",
       "19530     75.951627     87.925087                 1  \n",
       "19531     75.281430     74.928459                 1  \n",
       "19532     76.844940     86.337345                 1  \n",
       "19533     77.179693     73.624396                 1  \n",
       "19534     75.564313     80.421421                 1  \n",
       "\n",
       "[19535 rows x 7 columns]"
      ]
     },
     "execution_count": 133,
     "metadata": {},
     "output_type": "execute_result"
    }
   ],
   "source": [
    "df"
   ]
  },
  {
   "cell_type": "code",
   "execution_count": 134,
   "metadata": {},
   "outputs": [
    {
     "data": {
      "text/html": [
       "<div>\n",
       "<style scoped>\n",
       "    .dataframe tbody tr th:only-of-type {\n",
       "        vertical-align: middle;\n",
       "    }\n",
       "\n",
       "    .dataframe tbody tr th {\n",
       "        vertical-align: top;\n",
       "    }\n",
       "\n",
       "    .dataframe thead th {\n",
       "        text-align: right;\n",
       "    }\n",
       "</style>\n",
       "<table border=\"1\" class=\"dataframe\">\n",
       "  <thead>\n",
       "    <tr style=\"text-align: right;\">\n",
       "      <th></th>\n",
       "      <th>Engine rpm</th>\n",
       "      <th>Lub oil pressure</th>\n",
       "      <th>Fuel pressure</th>\n",
       "      <th>Coolant pressure</th>\n",
       "      <th>lub oil temp</th>\n",
       "      <th>Coolant temp</th>\n",
       "      <th>Engine Condition</th>\n",
       "    </tr>\n",
       "  </thead>\n",
       "  <tbody>\n",
       "    <tr>\n",
       "      <th>min</th>\n",
       "      <td>61.0</td>\n",
       "      <td>0.003384</td>\n",
       "      <td>0.003187</td>\n",
       "      <td>0.002483</td>\n",
       "      <td>71.321974</td>\n",
       "      <td>61.673325</td>\n",
       "      <td>0.0</td>\n",
       "    </tr>\n",
       "    <tr>\n",
       "      <th>max</th>\n",
       "      <td>2239.0</td>\n",
       "      <td>7.265566</td>\n",
       "      <td>21.138326</td>\n",
       "      <td>7.478505</td>\n",
       "      <td>89.580796</td>\n",
       "      <td>195.527912</td>\n",
       "      <td>1.0</td>\n",
       "    </tr>\n",
       "  </tbody>\n",
       "</table>\n",
       "</div>"
      ],
      "text/plain": [
       "     Engine rpm  Lub oil pressure  Fuel pressure  Coolant pressure  \\\n",
       "min        61.0          0.003384       0.003187          0.002483   \n",
       "max      2239.0          7.265566      21.138326          7.478505   \n",
       "\n",
       "     lub oil temp  Coolant temp  Engine Condition  \n",
       "min     71.321974     61.673325               0.0  \n",
       "max     89.580796    195.527912               1.0  "
      ]
     },
     "execution_count": 134,
     "metadata": {},
     "output_type": "execute_result"
    }
   ],
   "source": [
    "# min and max values for each feature\n",
    "df.describe().loc[['min', 'max']]"
   ]
  },
  {
   "cell_type": "code",
   "execution_count": 135,
   "metadata": {},
   "outputs": [
    {
     "data": {
      "text/plain": [
       "array([1, 0])"
      ]
     },
     "execution_count": 135,
     "metadata": {},
     "output_type": "execute_result"
    }
   ],
   "source": [
    "# engine condition unique values\n",
    "df['Engine Condition'].unique()"
   ]
  },
  {
   "cell_type": "code",
   "execution_count": 136,
   "metadata": {},
   "outputs": [
    {
     "name": "stdout",
     "output_type": "stream",
     "text": [
      "<class 'pandas.core.frame.DataFrame'>\n",
      "RangeIndex: 19535 entries, 0 to 19534\n",
      "Data columns (total 7 columns):\n",
      " #   Column            Non-Null Count  Dtype  \n",
      "---  ------            --------------  -----  \n",
      " 0   Engine rpm        19535 non-null  int64  \n",
      " 1   Lub oil pressure  19535 non-null  float64\n",
      " 2   Fuel pressure     19535 non-null  float64\n",
      " 3   Coolant pressure  19535 non-null  float64\n",
      " 4   lub oil temp      19535 non-null  float64\n",
      " 5   Coolant temp      19535 non-null  float64\n",
      " 6   Engine Condition  19535 non-null  int64  \n",
      "dtypes: float64(5), int64(2)\n",
      "memory usage: 1.0 MB\n"
     ]
    }
   ],
   "source": [
    "df.info()"
   ]
  },
  {
   "cell_type": "markdown",
   "metadata": {},
   "source": [
    "###  Data Exploration"
   ]
  },
  {
   "cell_type": "code",
   "execution_count": 137,
   "metadata": {},
   "outputs": [
    {
     "data": {
      "text/plain": [
       "Engine rpm          0\n",
       "Lub oil pressure    0\n",
       "Fuel pressure       0\n",
       "Coolant pressure    0\n",
       "lub oil temp        0\n",
       "Coolant temp        0\n",
       "Engine Condition    0\n",
       "dtype: int64"
      ]
     },
     "execution_count": 137,
     "metadata": {},
     "output_type": "execute_result"
    }
   ],
   "source": [
    "df.isnull().sum()"
   ]
  },
  {
   "cell_type": "code",
   "execution_count": 138,
   "metadata": {},
   "outputs": [
    {
     "data": {
      "text/html": [
       "<div>\n",
       "<style scoped>\n",
       "    .dataframe tbody tr th:only-of-type {\n",
       "        vertical-align: middle;\n",
       "    }\n",
       "\n",
       "    .dataframe tbody tr th {\n",
       "        vertical-align: top;\n",
       "    }\n",
       "\n",
       "    .dataframe thead th {\n",
       "        text-align: right;\n",
       "    }\n",
       "</style>\n",
       "<table border=\"1\" class=\"dataframe\">\n",
       "  <thead>\n",
       "    <tr style=\"text-align: right;\">\n",
       "      <th></th>\n",
       "      <th>Engine rpm</th>\n",
       "      <th>Lub oil pressure</th>\n",
       "      <th>Fuel pressure</th>\n",
       "      <th>Coolant pressure</th>\n",
       "      <th>lub oil temp</th>\n",
       "      <th>Coolant temp</th>\n",
       "      <th>Engine Condition</th>\n",
       "    </tr>\n",
       "  </thead>\n",
       "  <tbody>\n",
       "    <tr>\n",
       "      <th>count</th>\n",
       "      <td>19535.000000</td>\n",
       "      <td>19535.000000</td>\n",
       "      <td>19535.000000</td>\n",
       "      <td>19535.000000</td>\n",
       "      <td>19535.000000</td>\n",
       "      <td>19535.000000</td>\n",
       "      <td>19535.000000</td>\n",
       "    </tr>\n",
       "    <tr>\n",
       "      <th>mean</th>\n",
       "      <td>791.239263</td>\n",
       "      <td>3.303775</td>\n",
       "      <td>6.655615</td>\n",
       "      <td>2.335369</td>\n",
       "      <td>77.643420</td>\n",
       "      <td>78.427433</td>\n",
       "      <td>0.630509</td>\n",
       "    </tr>\n",
       "    <tr>\n",
       "      <th>std</th>\n",
       "      <td>267.611193</td>\n",
       "      <td>1.021643</td>\n",
       "      <td>2.761021</td>\n",
       "      <td>1.036382</td>\n",
       "      <td>3.110984</td>\n",
       "      <td>6.206749</td>\n",
       "      <td>0.482679</td>\n",
       "    </tr>\n",
       "    <tr>\n",
       "      <th>min</th>\n",
       "      <td>61.000000</td>\n",
       "      <td>0.003384</td>\n",
       "      <td>0.003187</td>\n",
       "      <td>0.002483</td>\n",
       "      <td>71.321974</td>\n",
       "      <td>61.673325</td>\n",
       "      <td>0.000000</td>\n",
       "    </tr>\n",
       "    <tr>\n",
       "      <th>25%</th>\n",
       "      <td>593.000000</td>\n",
       "      <td>2.518815</td>\n",
       "      <td>4.916886</td>\n",
       "      <td>1.600466</td>\n",
       "      <td>75.725990</td>\n",
       "      <td>73.895421</td>\n",
       "      <td>0.000000</td>\n",
       "    </tr>\n",
       "    <tr>\n",
       "      <th>50%</th>\n",
       "      <td>746.000000</td>\n",
       "      <td>3.162035</td>\n",
       "      <td>6.201720</td>\n",
       "      <td>2.166883</td>\n",
       "      <td>76.817350</td>\n",
       "      <td>78.346662</td>\n",
       "      <td>1.000000</td>\n",
       "    </tr>\n",
       "    <tr>\n",
       "      <th>75%</th>\n",
       "      <td>934.000000</td>\n",
       "      <td>4.055272</td>\n",
       "      <td>7.744973</td>\n",
       "      <td>2.848840</td>\n",
       "      <td>78.071691</td>\n",
       "      <td>82.915411</td>\n",
       "      <td>1.000000</td>\n",
       "    </tr>\n",
       "    <tr>\n",
       "      <th>max</th>\n",
       "      <td>2239.000000</td>\n",
       "      <td>7.265566</td>\n",
       "      <td>21.138326</td>\n",
       "      <td>7.478505</td>\n",
       "      <td>89.580796</td>\n",
       "      <td>195.527912</td>\n",
       "      <td>1.000000</td>\n",
       "    </tr>\n",
       "  </tbody>\n",
       "</table>\n",
       "</div>"
      ],
      "text/plain": [
       "         Engine rpm  Lub oil pressure  Fuel pressure  Coolant pressure  \\\n",
       "count  19535.000000      19535.000000   19535.000000      19535.000000   \n",
       "mean     791.239263          3.303775       6.655615          2.335369   \n",
       "std      267.611193          1.021643       2.761021          1.036382   \n",
       "min       61.000000          0.003384       0.003187          0.002483   \n",
       "25%      593.000000          2.518815       4.916886          1.600466   \n",
       "50%      746.000000          3.162035       6.201720          2.166883   \n",
       "75%      934.000000          4.055272       7.744973          2.848840   \n",
       "max     2239.000000          7.265566      21.138326          7.478505   \n",
       "\n",
       "       lub oil temp  Coolant temp  Engine Condition  \n",
       "count  19535.000000  19535.000000      19535.000000  \n",
       "mean      77.643420     78.427433          0.630509  \n",
       "std        3.110984      6.206749          0.482679  \n",
       "min       71.321974     61.673325          0.000000  \n",
       "25%       75.725990     73.895421          0.000000  \n",
       "50%       76.817350     78.346662          1.000000  \n",
       "75%       78.071691     82.915411          1.000000  \n",
       "max       89.580796    195.527912          1.000000  "
      ]
     },
     "execution_count": 138,
     "metadata": {},
     "output_type": "execute_result"
    }
   ],
   "source": [
    "df.describe()"
   ]
  },
  {
   "cell_type": "markdown",
   "metadata": {},
   "source": [
    "#### About 63% of the engines in the data are flagged as needing maintenance, while 37% are in good condition."
   ]
  },
  {
   "cell_type": "code",
   "execution_count": 139,
   "metadata": {},
   "outputs": [
    {
     "data": {
      "text/plain": [
       "Engine Condition\n",
       "1    12317\n",
       "0     7218\n",
       "Name: count, dtype: int64"
      ]
     },
     "execution_count": 139,
     "metadata": {},
     "output_type": "execute_result"
    }
   ],
   "source": [
    "# count of engine condition\n",
    "df['Engine Condition'].value_counts()"
   ]
  },
  {
   "cell_type": "code",
   "execution_count": 140,
   "metadata": {},
   "outputs": [
    {
     "data": {
      "image/png": "[encoded data removed]",
      "text/plain": [
       "<Figure size 800x600 with 1 Axes>"
      ]
     },
     "metadata": {},
     "output_type": "display_data"
    }
   ],
   "source": [
    "import matplotlib.pyplot as plt\n",
    "import seaborn as sns\n",
    "\n",
    "sns.set(style=\"whitegrid\")\n",
    "\n",
    "plt.figure(figsize=(8,6))\n",
    "sns.countplot(x='Engine Condition', data=df, palette='viridis') \n",
    "plt.title('Distribution of Engine Condition', fontsize=16)\n",
    "plt.xlabel('Engine Condition (Good,   Needs Maintenance)', fontsize=12)\n",
    "plt.ylabel('Count', fontsize=12)\n",
    "plt.show()"
   ]
  },
  {
   "cell_type": "markdown",
   "metadata": {},
   "source": [
    "### Data Preprocessing"
   ]
  },
  {
   "cell_type": "markdown",
   "metadata": {},
   "source": [
    "#### Most machine learning algorithms perform better when all features are on a similar scale. Using Min-Max Scaling (scaling between 0 and 1)"
   ]
  },
  {
   "cell_type": "code",
   "execution_count": 141,
   "metadata": {},
   "outputs": [
    {
     "data": {
      "application/vnd.plotly.v1+json": {
       "config": {
        "plotlyServerURL": "https://plot.ly"
       },
       "data": [
        {
         "coloraxis": "coloraxis",
         "hovertemplate": "x: %{x}<br>y: %{y}<br>color: %{z}<extra></extra>",
         "name": "0",
         "texttemplate": "%{z}",
         "type": "heatmap",
         "x": [
          "Engine rpm",
          "Lub oil pressure",
          "Fuel pressure",
          "Coolant pressure",
          "lub oil temp",
          "Coolant temp",
          "Engine Condition"
         ],
         "xaxis": "x",
         "y": [
          "Engine rpm",
          "Lub oil pressure",
          "Fuel pressure",
          "Coolant pressure",
          "lub oil temp",
          "Coolant temp",
          "Engine Condition"
         ],
         "yaxis": "y",
         "z": [
          [
           1,
           0.025045898042306083,
           -0.0015707534427956144,
           -0.02497943857844198,
           0.05213395435290027,
           0.029559988734816776,
           -0.26820120234199907
          ],
          [
           0.025045898042306083,
           1,
           0.04379010057832905,
           -0.009356756894922267,
           -0.00803050685253847,
           -0.060906136107744785,
           0.060903647826389094
          ],
          [
           -0.0015707534427956144,
           0.04379010057832905,
           1,
           0.03326438051606717,
           -0.02533823053045695,
           -0.04298601000220177,
           0.11625935148327649
          ],
          [
           -0.02497943857844198,
           -0.009356756894922267,
           0.03326438051606717,
           1,
           -0.020760939444027147,
           0.03345093829007723,
           -0.024054474328965264
          ],
          [
           0.05213395435290027,
           -0.00803050685253847,
           -0.02533823053045695,
           -0.020760939444027147,
           1,
           0.07291368948119743,
           -0.09363528132009591
          ],
          [
           0.029559988734816776,
           -0.060906136107744785,
           -0.04298601000220177,
           0.03345093829007723,
           0.07291368948119743,
           1,
           -0.04632598483945466
          ],
          [
           -0.26820120234199907,
           0.060903647826389094,
           0.11625935148327649,
           -0.024054474328965264,
           -0.09363528132009591,
           -0.04632598483945466,
           1
          ]
         ]
        }
       ],
       "layout": {
        "coloraxis": {
         "colorscale": [
          [
           0,
           "rgb(5,48,97)"
          ],
          [
           0.1,
           "rgb(33,102,172)"
          ],
          [
           0.2,
           "rgb(67,147,195)"
          ],
          [
           0.3,
           "rgb(146,197,222)"
          ],
          [
           0.4,
           "rgb(209,229,240)"
          ],
          [
           0.5,
           "rgb(247,247,247)"
          ],
          [
           0.6,
           "rgb(253,219,199)"
          ],
          [
           0.7,
           "rgb(244,165,130)"
          ],
          [
           0.8,
           "rgb(214,96,77)"
          ],
          [
           0.9,
           "rgb(178,24,43)"
          ],
          [
           1,
           "rgb(103,0,31)"
          ]
         ]
        },
        "template": {
         "data": {
          "bar": [
           {
            "error_x": {
             "color": "#2a3f5f"
            },
            "error_y": {
             "color": "#2a3f5f"
            },
            "marker": {
             "line": {
              "color": "#E5ECF6",
              "width": 0.5
             },
             "pattern": {
              "fillmode": "overlay",
              "size": 10,
              "solidity": 0.2
             }
            },
            "type": "bar"
           }
          ],
          "barpolar": [
           {
            "marker": {
             "line": {
              "color": "#E5ECF6",
              "width": 0.5
             },
             "pattern": {
              "fillmode": "overlay",
              "size": 10,
              "solidity": 0.2
             }
            },
            "type": "barpolar"
           }
          ],
          "carpet": [
           {
            "aaxis": {
             "endlinecolor": "#2a3f5f",
             "gridcolor": "white",
             "linecolor": "white",
             "minorgridcolor": "white",
             "startlinecolor": "#2a3f5f"
            },
            "baxis": {
             "endlinecolor": "#2a3f5f",
             "gridcolor": "white",
             "linecolor": "white",
             "minorgridcolor": "white",
             "startlinecolor": "#2a3f5f"
            },
            "type": "carpet"
           }
          ],
          "choropleth": [
           {
            "colorbar": {
             "outlinewidth": 0,
             "ticks": ""
            },
            "type": "choropleth"
           }
          ],
          "contour": [
           {
            "colorbar": {
             "outlinewidth": 0,
             "ticks": ""
            },
            "colorscale": [
             [
              0,
              "#0d0887"
             ],
             [
              0.1111111111111111,
              "#46039f"
             ],
             [
              0.2222222222222222,
              "#7201a8"
             ],
             [
              0.3333333333333333,
              "#9c179e"
             ],
             [
              0.4444444444444444,
              "#bd3786"
             ],
             [
              0.5555555555555556,
              "#d8576b"
             ],
             [
              0.6666666666666666,
              "#ed7953"
             ],
             [
              0.7777777777777778,
              "#fb9f3a"
             ],
             [
              0.8888888888888888,
              "#fdca26"
             ],
             [
              1,
              "#f0f921"
             ]
            ],
            "type": "contour"
           }
          ],
          "contourcarpet": [
           {
            "colorbar": {
             "outlinewidth": 0,
             "ticks": ""
            },
            "type": "contourcarpet"
           }
          ],
          "heatmap": [
           {
            "colorbar": {
             "outlinewidth": 0,
             "ticks": ""
            },
            "colorscale": [
             [
              0,
              "#0d0887"
             ],
             [
              0.1111111111111111,
              "#46039f"
             ],
             [
              0.2222222222222222,
              "#7201a8"
             ],
             [
              0.3333333333333333,
              "#9c179e"
             ],
             [
              0.4444444444444444,
              "#bd3786"
             ],
             [
              0.5555555555555556,
              "#d8576b"
             ],
             [
              0.6666666666666666,
              "#ed7953"
             ],
             [
              0.7777777777777778,
              "#fb9f3a"
             ],
             [
              0.8888888888888888,
              "#fdca26"
             ],
             [
              1,
              "#f0f921"
             ]
            ],
            "type": "heatmap"
           }
          ],
          "heatmapgl": [
           {
            "colorbar": {
             "outlinewidth": 0,
             "ticks": ""
            },
            "colorscale": [
             [
              0,
              "#0d0887"
             ],
             [
              0.1111111111111111,
              "#46039f"
             ],
             [
              0.2222222222222222,
              "#7201a8"
             ],
             [
              0.3333333333333333,
              "#9c179e"
             ],
             [
              0.4444444444444444,
              "#bd3786"
             ],
             [
              0.5555555555555556,
              "#d8576b"
             ],
             [
              0.6666666666666666,
              "#ed7953"
             ],
             [
              0.7777777777777778,
              "#fb9f3a"
             ],
             [
              0.8888888888888888,
              "#fdca26"
             ],
             [
              1,
              "#f0f921"
             ]
            ],
            "type": "heatmapgl"
           }
          ],
          "histogram": [
           {
            "marker": {
             "pattern": {
              "fillmode": "overlay",
              "size": 10,
              "solidity": 0.2
             }
            },
            "type": "histogram"
           }
          ],
          "histogram2d": [
           {
            "colorbar": {
             "outlinewidth": 0,
             "ticks": ""
            },
            "colorscale": [
             [
              0,
              "#0d0887"
             ],
             [
              0.1111111111111111,
              "#46039f"
             ],
             [
              0.2222222222222222,
              "#7201a8"
             ],
             [
              0.3333333333333333,
              "#9c179e"
             ],
             [
              0.4444444444444444,
              "#bd3786"
             ],
             [
              0.5555555555555556,
              "#d8576b"
             ],
             [
              0.6666666666666666,
              "#ed7953"
             ],
             [
              0.7777777777777778,
              "#fb9f3a"
             ],
             [
              0.8888888888888888,
              "#fdca26"
             ],
             [
              1,
              "#f0f921"
             ]
            ],
            "type": "histogram2d"
           }
          ],
          "histogram2dcontour": [
           {
            "colorbar": {
             "outlinewidth": 0,
             "ticks": ""
            },
            "colorscale": [
             [
              0,
              "#0d0887"
             ],
             [
              0.1111111111111111,
              "#46039f"
             ],
             [
              0.2222222222222222,
              "#7201a8"
             ],
             [
              0.3333333333333333,
              "#9c179e"
             ],
             [
              0.4444444444444444,
              "#bd3786"
             ],
             [
              0.5555555555555556,
              "#d8576b"
             ],
             [
              0.6666666666666666,
              "#ed7953"
             ],
             [
              0.7777777777777778,
              "#fb9f3a"
             ],
             [
              0.8888888888888888,
              "#fdca26"
             ],
             [
              1,
              "#f0f921"
             ]
            ],
            "type": "histogram2dcontour"
           }
          ],
          "mesh3d": [
           {
            "colorbar": {
             "outlinewidth": 0,
             "ticks": ""
            },
            "type": "mesh3d"
           }
          ],
          "parcoords": [
           {
            "line": {
             "colorbar": {
              "outlinewidth": 0,
              "ticks": ""
             }
            },
            "type": "parcoords"
           }
          ],
          "pie": [
           {
            "automargin": true,
            "type": "pie"
           }
          ],
          "scatter": [
           {
            "fillpattern": {
             "fillmode": "overlay",
             "size": 10,
             "solidity": 0.2
            },
            "type": "scatter"
           }
          ],
          "scatter3d": [
           {
            "line": {
             "colorbar": {
              "outlinewidth": 0,
              "ticks": ""
             }
            },
            "marker": {
             "colorbar": {
              "outlinewidth": 0,
              "ticks": ""
             }
            },
            "type": "scatter3d"
           }
          ],
          "scattercarpet": [
           {
            "marker": {
             "colorbar": {
              "outlinewidth": 0,
              "ticks": ""
             }
            },
            "type": "scattercarpet"
           }
          ],
          "scattergeo": [
           {
            "marker": {
             "colorbar": {
              "outlinewidth": 0,
              "ticks": ""
             }
            },
            "type": "scattergeo"
           }
          ],
          "scattergl": [
           {
            "marker": {
             "colorbar": {
              "outlinewidth": 0,
              "ticks": ""
             }
            },
            "type": "scattergl"
           }
          ],
          "scattermapbox": [
           {
            "marker": {
             "colorbar": {
              "outlinewidth": 0,
              "ticks": ""
             }
            },
            "type": "scattermapbox"
           }
          ],
          "scatterpolar": [
           {
            "marker": {
             "colorbar": {
              "outlinewidth": 0,
              "ticks": ""
             }
            },
            "type": "scatterpolar"
           }
          ],
          "scatterpolargl": [
           {
            "marker": {
             "colorbar": {
              "outlinewidth": 0,
              "ticks": ""
             }
            },
            "type": "scatterpolargl"
           }
          ],
          "scatterternary": [
           {
            "marker": {
             "colorbar": {
              "outlinewidth": 0,
              "ticks": ""
             }
            },
            "type": "scatterternary"
           }
          ],
          "surface": [
           {
            "colorbar": {
             "outlinewidth": 0,
             "ticks": ""
            },
            "colorscale": [
             [
              0,
              "#0d0887"
             ],
             [
              0.1111111111111111,
              "#46039f"
             ],
             [
              0.2222222222222222,
              "#7201a8"
             ],
             [
              0.3333333333333333,
              "#9c179e"
             ],
             [
              0.4444444444444444,
              "#bd3786"
             ],
             [
              0.5555555555555556,
              "#d8576b"
             ],
             [
              0.6666666666666666,
              "#ed7953"
             ],
             [
              0.7777777777777778,
              "#fb9f3a"
             ],
             [
              0.8888888888888888,
              "#fdca26"
             ],
             [
              1,
              "#f0f921"
             ]
            ],
            "type": "surface"
           }
          ],
          "table": [
           {
            "cells": {
             "fill": {
              "color": "#EBF0F8"
             },
             "line": {
              "color": "white"
             }
            },
            "header": {
             "fill": {
              "color": "#C8D4E3"
             },
             "line": {
              "color": "white"
             }
            },
            "type": "table"
           }
          ]
         },
         "layout": {
          "annotationdefaults": {
           "arrowcolor": "#2a3f5f",
           "arrowhead": 0,
           "arrowwidth": 1
          },
          "autotypenumbers": "strict",
          "coloraxis": {
           "colorbar": {
            "outlinewidth": 0,
            "ticks": ""
           }
          },
          "colorscale": {
           "diverging": [
            [
             0,
             "#8e0152"
            ],
            [
             0.1,
             "#c51b7d"
            ],
            [
             0.2,
             "#de77ae"
            ],
            [
             0.3,
             "#f1b6da"
            ],
            [
             0.4,
             "#fde0ef"
            ],
            [
             0.5,
             "#f7f7f7"
            ],
            [
             0.6,
             "#e6f5d0"
            ],
            [
             0.7,
             "#b8e186"
            ],
            [
             0.8,
             "#7fbc41"
            ],
            [
             0.9,
             "#4d9221"
            ],
            [
             1,
             "#276419"
            ]
           ],
           "sequential": [
            [
             0,
             "#0d0887"
            ],
            [
             0.1111111111111111,
             "#46039f"
            ],
            [
             0.2222222222222222,
             "#7201a8"
            ],
            [
             0.3333333333333333,
             "#9c179e"
            ],
            [
             0.4444444444444444,
             "#bd3786"
            ],
            [
             0.5555555555555556,
             "#d8576b"
            ],
            [
             0.6666666666666666,
             "#ed7953"
            ],
            [
             0.7777777777777778,
             "#fb9f3a"
            ],
            [
             0.8888888888888888,
             "#fdca26"
            ],
            [
             1,
             "#f0f921"
            ]
           ],
           "sequentialminus": [
            [
             0,
             "#0d0887"
            ],
            [
             0.1111111111111111,
             "#46039f"
            ],
            [
             0.2222222222222222,
             "#7201a8"
            ],
            [
             0.3333333333333333,
             "#9c179e"
            ],
            [
             0.4444444444444444,
             "#bd3786"
            ],
            [
             0.5555555555555556,
             "#d8576b"
            ],
            [
             0.6666666666666666,
             "#ed7953"
            ],
            [
             0.7777777777777778,
             "#fb9f3a"
            ],
            [
             0.8888888888888888,
             "#fdca26"
            ],
            [
             1,
             "#f0f921"
            ]
           ]
          },
          "colorway": [
           "#636efa",
           "#EF553B",
           "#00cc96",
           "#ab63fa",
           "#FFA15A",
           "#19d3f3",
           "#FF6692",
           "#B6E880",
           "#FF97FF",
           "#FECB52"
          ],
          "font": {
           "color": "#2a3f5f"
          },
          "geo": {
           "bgcolor": "white",
           "lakecolor": "white",
           "landcolor": "#E5ECF6",
           "showlakes": true,
           "showland": true,
           "subunitcolor": "white"
          },
          "hoverlabel": {
           "align": "left"
          },
          "hovermode": "closest",
          "mapbox": {
           "style": "light"
          },
          "paper_bgcolor": "white",
          "plot_bgcolor": "#E5ECF6",
          "polar": {
           "angularaxis": {
            "gridcolor": "white",
            "linecolor": "white",
            "ticks": ""
           },
           "bgcolor": "#E5ECF6",
           "radialaxis": {
            "gridcolor": "white",
            "linecolor": "white",
            "ticks": ""
           }
          },
          "scene": {
           "xaxis": {
            "backgroundcolor": "#E5ECF6",
            "gridcolor": "white",
            "gridwidth": 2,
            "linecolor": "white",
            "showbackground": true,
            "ticks": "",
            "zerolinecolor": "white"
           },
           "yaxis": {
            "backgroundcolor": "#E5ECF6",
            "gridcolor": "white",
            "gridwidth": 2,
            "linecolor": "white",
            "showbackground": true,
            "ticks": "",
            "zerolinecolor": "white"
           },
           "zaxis": {
            "backgroundcolor": "#E5ECF6",
            "gridcolor": "white",
            "gridwidth": 2,
            "linecolor": "white",
            "showbackground": true,
            "ticks": "",
            "zerolinecolor": "white"
           }
          },
          "shapedefaults": {
           "line": {
            "color": "#2a3f5f"
           }
          },
          "ternary": {
           "aaxis": {
            "gridcolor": "white",
            "linecolor": "white",
            "ticks": ""
           },
           "baxis": {
            "gridcolor": "white",
            "linecolor": "white",
            "ticks": ""
           },
           "bgcolor": "#E5ECF6",
           "caxis": {
            "gridcolor": "white",
            "linecolor": "white",
            "ticks": ""
           }
          },
          "title": {
           "x": 0.05
          },
          "xaxis": {
           "automargin": true,
           "gridcolor": "white",
           "linecolor": "white",
           "ticks": "",
           "title": {
            "standoff": 15
           },
           "zerolinecolor": "white",
           "zerolinewidth": 2
          },
          "yaxis": {
           "automargin": true,
           "gridcolor": "white",
           "linecolor": "white",
           "ticks": "",
           "title": {
            "standoff": 15
           },
           "zerolinecolor": "white",
           "zerolinewidth": 2
          }
         }
        },
        "title": {
         "text": "Correlation Matrix of Features"
        },
        "xaxis": {
         "anchor": "y",
         "domain": [
          0,
          1
         ]
        },
        "yaxis": {
         "anchor": "x",
         "autorange": "reversed",
         "domain": [
          0,
          1
         ]
        }
       }
      }
     },
     "metadata": {},
     "output_type": "display_data"
    }
   ],
   "source": [
    "import plotly.express as px\n",
    "\n",
    "correlation_matrix = df_copy.corr()\n",
    "\n",
    "fig = px.imshow(correlation_matrix, \n",
    "                text_auto=True,  \n",
    "                aspect=\"auto\", \n",
    "                color_continuous_scale='RdBu_r', \n",
    "                title='Correlation Matrix of Features')\n",
    "\n",
    "fig.show()"
   ]
  },
  {
   "cell_type": "markdown",
   "metadata": {},
   "source": [
    "#### the features are mostly independent, each feature is providing distinct information"
   ]
  },
  {
   "cell_type": "markdown",
   "metadata": {},
   "source": [
    "##  Preprocessing Pipeline "
   ]
  },
  {
   "cell_type": "code",
   "execution_count": 142,
   "metadata": {},
   "outputs": [],
   "source": [
    "# copy of the original dataset\n",
    "df_copy = df.copy()"
   ]
  },
  {
   "cell_type": "markdown",
   "metadata": {},
   "source": [
    "### Spliting Data into Training and Testing Sets"
   ]
  },
  {
   "cell_type": "code",
   "execution_count": 143,
   "metadata": {},
   "outputs": [
    {
     "name": "stdout",
     "output_type": "stream",
     "text": [
      "Training set size: 15628 samples\n",
      "Testing set size: 3907 samples\n"
     ]
    }
   ],
   "source": [
    "from sklearn.model_selection import train_test_split\n",
    "\n",
    "X = df_copy.drop('Engine Condition', axis=1)  # Features\n",
    "y = df_copy['Engine Condition']  # Target \n",
    "\n",
    "X_train, X_test, y_train, y_test = train_test_split(X, y, test_size=0.2, random_state=42)\n",
    "\n",
    "print(f'Training set size: {X_train.shape[0]} samples')\n",
    "print(f'Testing set size: {X_test.shape[0]} samples')"
   ]
  },
  {
   "cell_type": "code",
   "execution_count": 144,
   "metadata": {},
   "outputs": [
    {
     "data": {
      "text/plain": [
       "['scaler.pkl']"
      ]
     },
     "execution_count": 144,
     "metadata": {},
     "output_type": "execute_result"
    }
   ],
   "source": [
    "from sklearn.preprocessing import MinMaxScaler\n",
    "import joblib  # To save the scaler\n",
    "\n",
    "# Features to scale\n",
    "features_to_scale = ['Engine rpm', 'Lub oil pressure', 'Fuel pressure', 'Coolant pressure', 'lub oil temp', 'Coolant temp']\n",
    "\n",
    "# Initialize the MinMaxScaler\n",
    "scaler = MinMaxScaler()\n",
    "\n",
    "scaler.fit(X_train[features_to_scale]) \n",
    "\n",
    "X_train_scaled = scaler.transform(X_train[features_to_scale])\n",
    "X_test_scaled = scaler.transform(X_test[features_to_scale])\n",
    "\n",
    "# Save the scaler\n",
    "joblib.dump(scaler, 'scaler.pkl')\n"
   ]
  },
  {
   "cell_type": "code",
   "execution_count": 203,
   "metadata": {},
   "outputs": [
    {
     "name": "stdout",
     "output_type": "stream",
     "text": [
      "Test data saved successfully!\n"
     ]
    }
   ],
   "source": [
    "# test data for demonstration\n",
    "test_data = X_test.copy()\n",
    "test_data['Engine Condition'] = y_test \n",
    "\n",
    "test_data.to_csv('test_data.csv', index=False)\n",
    "\n",
    "print(\"Test data saved successfully!\")"
   ]
  },
  {
   "cell_type": "code",
   "execution_count": 146,
   "metadata": {},
   "outputs": [
    {
     "data": {
      "text/plain": [
       "3907"
      ]
     },
     "execution_count": 146,
     "metadata": {},
     "output_type": "execute_result"
    }
   ],
   "source": [
    "test_data.shape[0]"
   ]
  },
  {
   "cell_type": "markdown",
   "metadata": {},
   "source": [
    "###  Random Forest Pipeline"
   ]
  },
  {
   "cell_type": "code",
   "execution_count": 147,
   "metadata": {},
   "outputs": [
    {
     "name": "stdout",
     "output_type": "stream",
     "text": [
      "Random Forest Accuracy: 0.6412\n"
     ]
    }
   ],
   "source": [
    "from sklearn.pipeline import Pipeline\n",
    "from sklearn.ensemble import RandomForestClassifier\n",
    "# pipeline for Random Forest model\n",
    "random_forest_pipeline = Pipeline(steps=[\n",
    "    ('classifier', RandomForestClassifier())  \n",
    "])\n",
    "\n",
    "# Fit the model\n",
    "random_forest_pipeline.fit(X_train, y_train)\n",
    "\n",
    "# evaluate the model\n",
    "rf_accuracy = random_forest_pipeline.score(X_test, y_test)\n",
    "\n",
    "#predict the model\n",
    "y_pred = random_forest_pipeline.predict(X_test)\n",
    "\n",
    "# print the accuracy\n",
    "print(f'Random Forest Accuracy: {rf_accuracy:.4f}')"
   ]
  },
  {
   "cell_type": "code",
   "execution_count": 148,
   "metadata": {},
   "outputs": [
    {
     "name": "stdout",
     "output_type": "stream",
     "text": [
      "Random Forest Training Accuracy: 1.0000\n",
      "Random Forest Test Accuracy: 0.6412\n"
     ]
    }
   ],
   "source": [
    "print(f'Random Forest Training Accuracy: {random_forest_pipeline.score(X_train, y_train):.4f}')\n",
    "\n",
    "print(f'Random Forest Test Accuracy: {random_forest_pipeline.score(X_test, y_test):.4f}')"
   ]
  },
  {
   "cell_type": "code",
   "execution_count": 149,
   "metadata": {},
   "outputs": [
    {
     "name": "stdout",
     "output_type": "stream",
     "text": [
      "Precision: 0.6824\n",
      "Recall: 0.7994\n",
      "F1-Score: 0.7363\n",
      "Confusion Matrix:\n",
      " [[ 548  911]\n",
      " [ 491 1957]]\n"
     ]
    }
   ],
   "source": [
    "from sklearn.metrics import precision_score, recall_score, f1_score, confusion_matrix\n",
    "\n",
    "y_pred = random_forest_pipeline.predict(X_test)\n",
    "\n",
    "# Calculate Precision, Recall, and F1-Score\n",
    "precision = precision_score(y_test, y_pred)\n",
    "recall = recall_score(y_test, y_pred)\n",
    "f1 = f1_score(y_test, y_pred)\n",
    "\n",
    "# Print the scores\n",
    "print(f'Precision: {precision:.4f}')\n",
    "print(f'Recall: {recall:.4f}')\n",
    "print(f'F1-Score: {f1:.4f}')\n",
    "\n",
    "# Confusion Matrix\n",
    "conf_matrix = confusion_matrix(y_test, y_pred)\n",
    "print(\"Confusion Matrix:\\n\", conf_matrix)"
   ]
  },
  {
   "cell_type": "markdown",
   "metadata": {},
   "source": [
    "#### \t•\tPrecision (68%): When the model predicts that an engine needs maintenance, it’s correct about 68% of the time.\n",
    "####\t•\tRecall (80%): The model correctly identifies 80% of the engines that actually need maintenance.\n",
    "####\t•\tF1-Score (73%): This score is a balance between how often the model is right when predicting maintenance (precision) and how well it finds all engines that need maintenance (recall). It’s a good indication that the model is performing fairly well, with a balanced 73% score.\n",
    "####\t•\tConfusion Matrix:\n",
    "####\t•\t546 engines were correctly predicted as in good condition.\n",
    "####\t•\t913 engines were incorrectly flagged as needing maintenance when they didn’t.\n",
    "####\t•\t494 engines that needed maintenance were missed by the model.\n",
    "####\t•\t1954 engines that needed maintenance were correctly identified.\n",
    "####\t•\tAccuracy (64%): Overall, the model makes correct predictions about 64% of the time.\n",
    "\n"
   ]
  },
  {
   "cell_type": "markdown",
   "metadata": {},
   "source": [
    "### Logistic Regression Model"
   ]
  },
  {
   "cell_type": "code",
   "execution_count": 150,
   "metadata": {},
   "outputs": [
    {
     "name": "stdout",
     "output_type": "stream",
     "text": [
      "Logistic Regression Accuracy: 0.6442\n",
      "Precision: 0.6658\n",
      "Recall: 0.8676\n",
      "F1-Score: 0.7535\n",
      "Confusion Matrix:\n",
      " [[ 393 1066]\n",
      " [ 324 2124]]\n"
     ]
    }
   ],
   "source": [
    "from sklearn.linear_model import LogisticRegression\n",
    "# pipeline for Logistic Regression model\n",
    "logistic_regression_pipeline = Pipeline(steps=[\n",
    "    ('classifier', LogisticRegression())  \n",
    "])\n",
    "\n",
    "logistic_regression_pipeline.fit(X_train, y_train)\n",
    "\n",
    "# Evaluate the model on the test set\n",
    "lr_accuracy = logistic_regression_pipeline.score(X_test, y_test)\n",
    "\n",
    "print(f'Logistic Regression Accuracy: {lr_accuracy:.4f}')\n",
    "\n",
    "# Predict the labels on the test set\n",
    "y_pred_lr = logistic_regression_pipeline.predict(X_test)\n",
    "\n",
    "# Calculate Precision, Recall, and F1-Score\n",
    "precision_lr = precision_score(y_test, y_pred_lr)\n",
    "recall_lr = recall_score(y_test, y_pred_lr)\n",
    "f1_lr = f1_score(y_test, y_pred_lr)\n",
    "\n",
    "# Print the scores\n",
    "print(f'Precision: {precision_lr:.4f}')\n",
    "print(f'Recall: {recall_lr:.4f}')\n",
    "print(f'F1-Score: {f1_lr:.4f}')\n",
    "\n",
    "# Confusion Matrix\n",
    "conf_matrix_lr = confusion_matrix(y_test, y_pred_lr)\n",
    "print(\"Confusion Matrix:\\n\", conf_matrix_lr)\n"
   ]
  },
  {
   "cell_type": "code",
   "execution_count": 151,
   "metadata": {},
   "outputs": [
    {
     "name": "stdout",
     "output_type": "stream",
     "text": [
      "Logistic Regression Training Accuracy: 0.6624\n",
      "Logistic Regression Test Accuracy: 0.6442\n"
     ]
    }
   ],
   "source": [
    "print(f'Logistic Regression Training Accuracy: {logistic_regression_pipeline.score(X_train, y_train):.4f}')\n",
    "\n",
    "print(f'Logistic Regression Test Accuracy: {logistic_regression_pipeline.score(X_test, y_test):.4f}')"
   ]
  },
  {
   "cell_type": "markdown",
   "metadata": {},
   "source": [
    "#### Result\n",
    "#### \t•\tTraining Accuracy (66.41%) vs. Test Accuracy (65.01%):\n",
    "#### \t•\tThe training and test accuracies are quite close, indicating that the model is not overfitting. The model is performing similarly on both the training data and unseen test data, which is a good sign.\n",
    "#### \t•\tPrecision (66.89%):\n",
    "#### \t•\tWhen the model predicts that an engine needs maintenance, it’s correct about 66.89% of the time. This shows that the model makes some mistakes when predicting maintenance, but it’s fairly reliable.\n",
    "#### \t•\tRecall (87.46%):\n",
    "#### \t•\tThe model is able to correctly identify 87.46% of the engines that actually need maintenance. This is a strong result, meaning the model is good at identifying most engines that need attention.\n",
    "#### \t•\tF1-Score (75.80%):\n",
    "#### \t•\tThe F1-Score balances precision and recall, and at 75.80%, it shows that the model is reasonably balanced between how accurately it predicts and how well it identifies engines that need maintenance.\n",
    "#### \t•\tConfusion Matrix:\n",
    "#### \t•\t399 engines were correctly identified as being in good condition.\n",
    "#### \t•\t1060 engines were incorrectly flagged as needing maintenance when they were actually in good condition.\n",
    "#### \t•\t307 engines that needed maintenance were missed by the model.\n",
    "#### \t•\t2141 engines were correctly identified as needing maintenance.\n"
   ]
  },
  {
   "cell_type": "markdown",
   "metadata": {},
   "source": [
    "###  Support Vector Machine (SVM) model"
   ]
  },
  {
   "cell_type": "code",
   "execution_count": 152,
   "metadata": {},
   "outputs": [
    {
     "name": "stdout",
     "output_type": "stream",
     "text": [
      "SVM Accuracy: 0.6348\n",
      "Precision: 0.6491\n",
      "Recall: 0.9077\n",
      "F1-Score: 0.7569\n",
      "Confusion Matrix:\n",
      " [[ 258 1201]\n",
      " [ 226 2222]]\n"
     ]
    }
   ],
   "source": [
    "from sklearn.svm import SVC\n",
    "\n",
    "svm_pipeline = Pipeline(steps=[\n",
    "    ('classifier', SVC())\n",
    "])\n",
    "\n",
    "# Fit the model\n",
    "svm_pipeline.fit(X_train, y_train)\n",
    "\n",
    "# Evaluate the model on the test set\n",
    "svm_accuracy = svm_pipeline.score(X_test, y_test)\n",
    "\n",
    "# Print the accuracy\n",
    "print(f'SVM Accuracy: {svm_accuracy:.4f}')\n",
    "\n",
    "# Predict the labels on the test set\n",
    "y_pred_svm = svm_pipeline.predict(X_test)\n",
    "\n",
    "# Calculate Precision, Recall, and F1-Score\n",
    "precision_svm = precision_score(y_test, y_pred_svm)\n",
    "recall_svm = recall_score(y_test, y_pred_svm)\n",
    "f1_svm = f1_score(y_test, y_pred_svm)\n",
    "\n",
    "# Print the scores\n",
    "print(f'Precision: {precision_svm:.4f}')\n",
    "print(f'Recall: {recall_svm:.4f}')\n",
    "print(f'F1-Score: {f1_svm:.4f}')\n",
    "\n",
    "# Confusion Matrix\n",
    "conf_matrix_svm = confusion_matrix(y_test, y_pred_svm)\n",
    "print(\"Confusion Matrix:\\n\", conf_matrix_svm)"
   ]
  },
  {
   "cell_type": "code",
   "execution_count": 153,
   "metadata": {},
   "outputs": [
    {
     "name": "stdout",
     "output_type": "stream",
     "text": [
      "SVM Training Accuracy: 0.6474\n",
      "SVM Test Accuracy: 0.6348\n"
     ]
    }
   ],
   "source": [
    "print(f'SVM Training Accuracy: {svm_pipeline.score(X_train, y_train):.4f}')\n",
    "\n",
    "print(f'SVM Test Accuracy: {svm_pipeline.score(X_test, y_test):.4f}')"
   ]
  },
  {
   "cell_type": "markdown",
   "metadata": {},
   "source": [
    "### Observations:\n",
    "\n",
    "####\t•\tSVM has the highest accuracy (64%) and F1-Score (75%), which suggests it might be the best-performing model overall, especially recall (identifying engines that need maintenance) is our priority.\n",
    "####\t•\tRandom Forest performs reasonably well but has a slightly lower F1-Score.\n",
    "####\t•\tLogistic Regression also performs well, with a strong recall, but has lower precision.\n"
   ]
  },
  {
   "cell_type": "markdown",
   "metadata": {},
   "source": [
    "### Hyperparameter Tuning using Grid Search"
   ]
  },
  {
   "cell_type": "code",
   "execution_count": null,
   "metadata": {},
   "outputs": [],
   "source": [
    "from sklearn.model_selection import GridSearchCV\n",
    "\n",
    "# hyperparameter grid\n",
    "param_grid = {\n",
    "    'classifier__C': [0.1, 1, 10, 100],           \n",
    "    'classifier__kernel': ['linear', 'rbf'],      \n",
    "    'classifier__gamma': [0.1, 0.01, 0.001],      \n",
    "}\n",
    "\n",
    "# svm pipeline\n",
    "svm_pipeline = Pipeline(steps=[\n",
    "    ('classifier', SVC())\n",
    "])\n",
    "\n",
    "# grid search for best hyperparameters\n",
    "grid_search = GridSearchCV(svm_pipeline, param_grid, cv=5, scoring='accuracy', n_jobs=-1)\n",
    "\n",
    "# Fit the model\n",
    "grid_search.fit(X_train, y_train)\n",
    "\n",
    "print(f'Best Hyperparameters: {grid_search.best_params_}')\n",
    "print(f'Best Accuracy: {grid_search.best_score_:.4f}')"
   ]
  },
  {
   "cell_type": "code",
   "execution_count": null,
   "metadata": {},
   "outputs": [
    {
     "name": "stdout",
     "output_type": "stream",
     "text": [
      "SVM Training Accuracy: 0.6575\n",
      "SVM Test Accuracy: 0.6468\n"
     ]
    }
   ],
   "source": [
    "# check for both training and testing accuracy\n",
    "print(f'SVM Training Accuracy: {grid_search.score(X_train, y_train):.4f}')\n",
    "print(f'SVM Test Accuracy: {grid_search.score(X_test, y_test):.4f}')"
   ]
  },
  {
   "cell_type": "code",
   "execution_count": null,
   "metadata": {},
   "outputs": [
    {
     "name": "stdout",
     "output_type": "stream",
     "text": [
      "Best SVM Accuracy on Test Set: 0.6468\n",
      "Precision: 0.6556\n",
      "Recall: 0.9191\n",
      "F1-Score: 0.7653\n",
      "Confusion Matrix:\n",
      " [[ 277 1182]\n",
      " [ 198 2250]]\n"
     ]
    }
   ],
   "source": [
    "best_svm_pipeline = Pipeline(steps=[\n",
    "    ('classifier', SVC(C=1, gamma=0.1, kernel='linear')) \n",
    "])\n",
    "\n",
    "# Fit the model\n",
    "best_svm_pipeline.fit(X_train, y_train)\n",
    "\n",
    "best_svm_accuracy = best_svm_pipeline.score(X_test, y_test)\n",
    "\n",
    "# Print the accuracy\n",
    "print(f'Best SVM Accuracy on Test Set: {best_svm_accuracy:.4f}')\n",
    "\n",
    "# Predict the labels on the test set\n",
    "y_pred_best_svm = best_svm_pipeline.predict(X_test)\n",
    "\n",
    "# Calculate Precision, Recall, and F1-Score\n",
    "precision_best_svm = precision_score(y_test, y_pred_best_svm)\n",
    "recall_best_svm = recall_score(y_test, y_pred_best_svm)\n",
    "f1_best_svm = f1_score(y_test, y_pred_best_svm)\n",
    "\n",
    "# Print the scores\n",
    "print(f'Precision: {precision_best_svm:.4f}')\n",
    "print(f'Recall: {recall_best_svm:.4f}')\n",
    "print(f'F1-Score: {f1_best_svm:.4f}')\n",
    "\n",
    "# Confusion Matrix\n",
    "conf_matrix_best_svm = confusion_matrix(y_test, y_pred_best_svm)\n",
    "print(\"Confusion Matrix:\\n\", conf_matrix_best_svm)"
   ]
  },
  {
   "cell_type": "code",
   "execution_count": 156,
   "metadata": {},
   "outputs": [
    {
     "name": "stdout",
     "output_type": "stream",
     "text": [
      "Best Hyperparameters from RandomizedSearchCV: {'classifier__kernel': 'linear', 'classifier__gamma': 0.01, 'classifier__class_weight': None, 'classifier__C': 1}\n",
      "Best Accuracy from RandomizedSearchCV: 0.6682\n"
     ]
    }
   ],
   "source": [
    "from sklearn.model_selection import RandomizedSearchCV\n",
    "from sklearn.model_selection import GridSearchCV\n",
    "import numpy as np\n",
    "\n",
    "param_grid_reduced = {\n",
    "    'classifier__C': [0.1, 1, 10],  \n",
    "    'classifier__kernel': ['linear', 'rbf'], \n",
    "    'classifier__gamma': [1, 0.1, 0.01],  \n",
    "    'classifier__class_weight': [None, 'balanced']  \n",
    "}\n",
    "\n",
    "# RandomizedSearchCV for faster hyperparameter tuning\n",
    "random_search = RandomizedSearchCV(svm_pipeline, param_distributions=param_grid_reduced, n_iter=10, cv=3, scoring='accuracy', random_state=42)\n",
    "\n",
    "random_search.fit(X_train, y_train)\n",
    "\n",
    "print(f'Best Hyperparameters from RandomizedSearchCV: {random_search.best_params_}')\n",
    "print(f'Best Accuracy from RandomizedSearchCV: {random_search.best_score_:.4f}')"
   ]
  },
  {
   "cell_type": "code",
   "execution_count": 157,
   "metadata": {},
   "outputs": [
    {
     "name": "stdout",
     "output_type": "stream",
     "text": [
      "SVM Training Accuracy: 0.6660\n",
      "SVM Test Accuracy: 0.6499\n"
     ]
    }
   ],
   "source": [
    "# check for both training and testing accuracy\n",
    "print(f'SVM Training Accuracy: {random_search.score(X_train, y_train):.4f}')\n",
    "print(f'SVM Test Accuracy: {random_search.score(X_test, y_test):.4f}')"
   ]
  },
  {
   "cell_type": "code",
   "execution_count": 158,
   "metadata": {},
   "outputs": [
    {
     "name": "stdout",
     "output_type": "stream",
     "text": [
      "Best SVM Accuracy on Test Set: 0.6499\n",
      "Precision: 0.6769\n",
      "Recall: 0.8440\n",
      "F1-Score: 0.7513\n",
      "Confusion Matrix:\n",
      " [[ 473  986]\n",
      " [ 382 2066]]\n"
     ]
    }
   ],
   "source": [
    "best_svm_pipeline = Pipeline(steps=[\n",
    "    ('classifier', SVC(kernel='linear', C=1, class_weight=None, probability=True))  # Best hyperparameters\n",
    "])\n",
    "\n",
    "best_svm_pipeline.fit(X_train, y_train)\n",
    "\n",
    "best_svm_accuracy = best_svm_pipeline.score(X_test, y_test)\n",
    "print(f'Best SVM Accuracy on Test Set: {best_svm_accuracy:.4f}')\n",
    "\n",
    "# predicted labels\n",
    "y_pred_best_svm = best_svm_pipeline.predict(X_test)\n",
    "\n",
    "precision_best_svm = precision_score(y_test, y_pred_best_svm)\n",
    "recall_best_svm = recall_score(y_test, y_pred_best_svm)\n",
    "f1_best_svm = f1_score(y_test, y_pred_best_svm)\n",
    "\n",
    "# evaluation metrics\n",
    "print(f'Precision: {precision_best_svm:.4f}')\n",
    "print(f'Recall: {recall_best_svm:.4f}')\n",
    "print(f'F1-Score: {f1_best_svm:.4f}')\n",
    "\n",
    "# Confusion Matrix\n",
    "conf_matrix_best_svm = confusion_matrix(y_test, y_pred_best_svm)\n",
    "print(\"Confusion Matrix:\\n\", conf_matrix_best_svm)"
   ]
  },
  {
   "cell_type": "code",
   "execution_count": 198,
   "metadata": {},
   "outputs": [
    {
     "name": "stdout",
     "output_type": "stream",
     "text": [
      "Custom Threshold Precision: 0.6447\n",
      "Custom Threshold Recall: 0.9575\n",
      "Custom Threshold F1-Score: 0.7705\n"
     ]
    }
   ],
   "source": [
    "y_prob = best_svm_pipeline.predict_proba(X_test)\n",
    "\n",
    "threshold = 0.35\n",
    "y_pred_custom_threshold = (y_prob[:, 1] >= threshold).astype(int)\n",
    "\n",
    "# Evaluate with the new threshold\n",
    "precision_custom = precision_score(y_test, y_pred_custom_threshold)\n",
    "recall_custom = recall_score(y_test, y_pred_custom_threshold)\n",
    "f1_custom = f1_score(y_test, y_pred_custom_threshold)\n",
    "\n",
    "print(f\"Custom Threshold Precision: {precision_custom:.4f}\")\n",
    "print(f\"Custom Threshold Recall: {recall_custom:.4f}\")\n",
    "print(f\"Custom Threshold F1-Score: {f1_custom:.4f}\")"
   ]
  },
  {
   "cell_type": "markdown",
   "metadata": {},
   "source": [
    "#### With the Recall matrix the model correctly identifies 95.34% of the engines that need maintenance, which means it is very good at catching potential problems early. Which is important for the model on predicting maintenance, because missing an engine that requires maintenance can lead to costly breakdowns.\n",
    "####\t•\tWhen the model predicts that an engine needs maintenance, it’s right about 65% of the time, meaning it sometimes flags engines for maintenance when they’re actually fine.\n",
    "####\t•\tOverall, the model is good at preventing missed maintenance issues, even though it may result in a few unnecessary maintenance alerts.\n",
    "####\t•\tThis balance is useful because it’s better to overpredict maintenance than to miss potential problems, especially in a real-world setting where engine failures can be costly."
   ]
  },
  {
   "cell_type": "code",
   "execution_count": 200,
   "metadata": {},
   "outputs": [
    {
     "data": {
      "application/vnd.plotly.v1+json": {
       "config": {
        "plotlyServerURL": "https://plot.ly"
       },
       "data": [
        {
         "coloraxis": "coloraxis",
         "hovertemplate": "Predicted Values: %{x}<br>Actual Values: %{y}<br>Count: %{z}<extra></extra>",
         "name": "0",
         "texttemplate": "%{z}",
         "type": "heatmap",
         "x": [
          "Predicted No Maintenance",
          "Predicted Needs Maintenance"
         ],
         "xaxis": "x",
         "y": [
          "Actual No Maintenance",
          "Actual Needs Maintenance"
         ],
         "yaxis": "y",
         "z": [
          [
           167,
           1292
          ],
          [
           104,
           2344
          ]
         ]
        }
       ],
       "layout": {
        "coloraxis": {
         "colorbar": {
          "title": {
           "text": "Count"
          }
         },
         "colorscale": [
          [
           0,
           "rgb(247,251,255)"
          ],
          [
           0.125,
           "rgb(222,235,247)"
          ],
          [
           0.25,
           "rgb(198,219,239)"
          ],
          [
           0.375,
           "rgb(158,202,225)"
          ],
          [
           0.5,
           "rgb(107,174,214)"
          ],
          [
           0.625,
           "rgb(66,146,198)"
          ],
          [
           0.75,
           "rgb(33,113,181)"
          ],
          [
           0.875,
           "rgb(8,81,156)"
          ],
          [
           1,
           "rgb(8,48,107)"
          ]
         ]
        },
        "height": 600,
        "template": {
         "data": {
          "bar": [
           {
            "error_x": {
             "color": "#2a3f5f"
            },
            "error_y": {
             "color": "#2a3f5f"
            },
            "marker": {
             "line": {
              "color": "#E5ECF6",
              "width": 0.5
             },
             "pattern": {
              "fillmode": "overlay",
              "size": 10,
              "solidity": 0.2
             }
            },
            "type": "bar"
           }
          ],
          "barpolar": [
           {
            "marker": {
             "line": {
              "color": "#E5ECF6",
              "width": 0.5
             },
             "pattern": {
              "fillmode": "overlay",
              "size": 10,
              "solidity": 0.2
             }
            },
            "type": "barpolar"
           }
          ],
          "carpet": [
           {
            "aaxis": {
             "endlinecolor": "#2a3f5f",
             "gridcolor": "white",
             "linecolor": "white",
             "minorgridcolor": "white",
             "startlinecolor": "#2a3f5f"
            },
            "baxis": {
             "endlinecolor": "#2a3f5f",
             "gridcolor": "white",
             "linecolor": "white",
             "minorgridcolor": "white",
             "startlinecolor": "#2a3f5f"
            },
            "type": "carpet"
           }
          ],
          "choropleth": [
           {
            "colorbar": {
             "outlinewidth": 0,
             "ticks": ""
            },
            "type": "choropleth"
           }
          ],
          "contour": [
           {
            "colorbar": {
             "outlinewidth": 0,
             "ticks": ""
            },
            "colorscale": [
             [
              0,
              "#0d0887"
             ],
             [
              0.1111111111111111,
              "#46039f"
             ],
             [
              0.2222222222222222,
              "#7201a8"
             ],
             [
              0.3333333333333333,
              "#9c179e"
             ],
             [
              0.4444444444444444,
              "#bd3786"
             ],
             [
              0.5555555555555556,
              "#d8576b"
             ],
             [
              0.6666666666666666,
              "#ed7953"
             ],
             [
              0.7777777777777778,
              "#fb9f3a"
             ],
             [
              0.8888888888888888,
              "#fdca26"
             ],
             [
              1,
              "#f0f921"
             ]
            ],
            "type": "contour"
           }
          ],
          "contourcarpet": [
           {
            "colorbar": {
             "outlinewidth": 0,
             "ticks": ""
            },
            "type": "contourcarpet"
           }
          ],
          "heatmap": [
           {
            "colorbar": {
             "outlinewidth": 0,
             "ticks": ""
            },
            "colorscale": [
             [
              0,
              "#0d0887"
             ],
             [
              0.1111111111111111,
              "#46039f"
             ],
             [
              0.2222222222222222,
              "#7201a8"
             ],
             [
              0.3333333333333333,
              "#9c179e"
             ],
             [
              0.4444444444444444,
              "#bd3786"
             ],
             [
              0.5555555555555556,
              "#d8576b"
             ],
             [
              0.6666666666666666,
              "#ed7953"
             ],
             [
              0.7777777777777778,
              "#fb9f3a"
             ],
             [
              0.8888888888888888,
              "#fdca26"
             ],
             [
              1,
              "#f0f921"
             ]
            ],
            "type": "heatmap"
           }
          ],
          "heatmapgl": [
           {
            "colorbar": {
             "outlinewidth": 0,
             "ticks": ""
            },
            "colorscale": [
             [
              0,
              "#0d0887"
             ],
             [
              0.1111111111111111,
              "#46039f"
             ],
             [
              0.2222222222222222,
              "#7201a8"
             ],
             [
              0.3333333333333333,
              "#9c179e"
             ],
             [
              0.4444444444444444,
              "#bd3786"
             ],
             [
              0.5555555555555556,
              "#d8576b"
             ],
             [
              0.6666666666666666,
              "#ed7953"
             ],
             [
              0.7777777777777778,
              "#fb9f3a"
             ],
             [
              0.8888888888888888,
              "#fdca26"
             ],
             [
              1,
              "#f0f921"
             ]
            ],
            "type": "heatmapgl"
           }
          ],
          "histogram": [
           {
            "marker": {
             "pattern": {
              "fillmode": "overlay",
              "size": 10,
              "solidity": 0.2
             }
            },
            "type": "histogram"
           }
          ],
          "histogram2d": [
           {
            "colorbar": {
             "outlinewidth": 0,
             "ticks": ""
            },
            "colorscale": [
             [
              0,
              "#0d0887"
             ],
             [
              0.1111111111111111,
              "#46039f"
             ],
             [
              0.2222222222222222,
              "#7201a8"
             ],
             [
              0.3333333333333333,
              "#9c179e"
             ],
             [
              0.4444444444444444,
              "#bd3786"
             ],
             [
              0.5555555555555556,
              "#d8576b"
             ],
             [
              0.6666666666666666,
              "#ed7953"
             ],
             [
              0.7777777777777778,
              "#fb9f3a"
             ],
             [
              0.8888888888888888,
              "#fdca26"
             ],
             [
              1,
              "#f0f921"
             ]
            ],
            "type": "histogram2d"
           }
          ],
          "histogram2dcontour": [
           {
            "colorbar": {
             "outlinewidth": 0,
             "ticks": ""
            },
            "colorscale": [
             [
              0,
              "#0d0887"
             ],
             [
              0.1111111111111111,
              "#46039f"
             ],
             [
              0.2222222222222222,
              "#7201a8"
             ],
             [
              0.3333333333333333,
              "#9c179e"
             ],
             [
              0.4444444444444444,
              "#bd3786"
             ],
             [
              0.5555555555555556,
              "#d8576b"
             ],
             [
              0.6666666666666666,
              "#ed7953"
             ],
             [
              0.7777777777777778,
              "#fb9f3a"
             ],
             [
              0.8888888888888888,
              "#fdca26"
             ],
             [
              1,
              "#f0f921"
             ]
            ],
            "type": "histogram2dcontour"
           }
          ],
          "mesh3d": [
           {
            "colorbar": {
             "outlinewidth": 0,
             "ticks": ""
            },
            "type": "mesh3d"
           }
          ],
          "parcoords": [
           {
            "line": {
             "colorbar": {
              "outlinewidth": 0,
              "ticks": ""
             }
            },
            "type": "parcoords"
           }
          ],
          "pie": [
           {
            "automargin": true,
            "type": "pie"
           }
          ],
          "scatter": [
           {
            "fillpattern": {
             "fillmode": "overlay",
             "size": 10,
             "solidity": 0.2
            },
            "type": "scatter"
           }
          ],
          "scatter3d": [
           {
            "line": {
             "colorbar": {
              "outlinewidth": 0,
              "ticks": ""
             }
            },
            "marker": {
             "colorbar": {
              "outlinewidth": 0,
              "ticks": ""
             }
            },
            "type": "scatter3d"
           }
          ],
          "scattercarpet": [
           {
            "marker": {
             "colorbar": {
              "outlinewidth": 0,
              "ticks": ""
             }
            },
            "type": "scattercarpet"
           }
          ],
          "scattergeo": [
           {
            "marker": {
             "colorbar": {
              "outlinewidth": 0,
              "ticks": ""
             }
            },
            "type": "scattergeo"
           }
          ],
          "scattergl": [
           {
            "marker": {
             "colorbar": {
              "outlinewidth": 0,
              "ticks": ""
             }
            },
            "type": "scattergl"
           }
          ],
          "scattermapbox": [
           {
            "marker": {
             "colorbar": {
              "outlinewidth": 0,
              "ticks": ""
             }
            },
            "type": "scattermapbox"
           }
          ],
          "scatterpolar": [
           {
            "marker": {
             "colorbar": {
              "outlinewidth": 0,
              "ticks": ""
             }
            },
            "type": "scatterpolar"
           }
          ],
          "scatterpolargl": [
           {
            "marker": {
             "colorbar": {
              "outlinewidth": 0,
              "ticks": ""
             }
            },
            "type": "scatterpolargl"
           }
          ],
          "scatterternary": [
           {
            "marker": {
             "colorbar": {
              "outlinewidth": 0,
              "ticks": ""
             }
            },
            "type": "scatterternary"
           }
          ],
          "surface": [
           {
            "colorbar": {
             "outlinewidth": 0,
             "ticks": ""
            },
            "colorscale": [
             [
              0,
              "#0d0887"
             ],
             [
              0.1111111111111111,
              "#46039f"
             ],
             [
              0.2222222222222222,
              "#7201a8"
             ],
             [
              0.3333333333333333,
              "#9c179e"
             ],
             [
              0.4444444444444444,
              "#bd3786"
             ],
             [
              0.5555555555555556,
              "#d8576b"
             ],
             [
              0.6666666666666666,
              "#ed7953"
             ],
             [
              0.7777777777777778,
              "#fb9f3a"
             ],
             [
              0.8888888888888888,
              "#fdca26"
             ],
             [
              1,
              "#f0f921"
             ]
            ],
            "type": "surface"
           }
          ],
          "table": [
           {
            "cells": {
             "fill": {
              "color": "#EBF0F8"
             },
             "line": {
              "color": "white"
             }
            },
            "header": {
             "fill": {
              "color": "#C8D4E3"
             },
             "line": {
              "color": "white"
             }
            },
            "type": "table"
           }
          ]
         },
         "layout": {
          "annotationdefaults": {
           "arrowcolor": "#2a3f5f",
           "arrowhead": 0,
           "arrowwidth": 1
          },
          "autotypenumbers": "strict",
          "coloraxis": {
           "colorbar": {
            "outlinewidth": 0,
            "ticks": ""
           }
          },
          "colorscale": {
           "diverging": [
            [
             0,
             "#8e0152"
            ],
            [
             0.1,
             "#c51b7d"
            ],
            [
             0.2,
             "#de77ae"
            ],
            [
             0.3,
             "#f1b6da"
            ],
            [
             0.4,
             "#fde0ef"
            ],
            [
             0.5,
             "#f7f7f7"
            ],
            [
             0.6,
             "#e6f5d0"
            ],
            [
             0.7,
             "#b8e186"
            ],
            [
             0.8,
             "#7fbc41"
            ],
            [
             0.9,
             "#4d9221"
            ],
            [
             1,
             "#276419"
            ]
           ],
           "sequential": [
            [
             0,
             "#0d0887"
            ],
            [
             0.1111111111111111,
             "#46039f"
            ],
            [
             0.2222222222222222,
             "#7201a8"
            ],
            [
             0.3333333333333333,
             "#9c179e"
            ],
            [
             0.4444444444444444,
             "#bd3786"
            ],
            [
             0.5555555555555556,
             "#d8576b"
            ],
            [
             0.6666666666666666,
             "#ed7953"
            ],
            [
             0.7777777777777778,
             "#fb9f3a"
            ],
            [
             0.8888888888888888,
             "#fdca26"
            ],
            [
             1,
             "#f0f921"
            ]
           ],
           "sequentialminus": [
            [
             0,
             "#0d0887"
            ],
            [
             0.1111111111111111,
             "#46039f"
            ],
            [
             0.2222222222222222,
             "#7201a8"
            ],
            [
             0.3333333333333333,
             "#9c179e"
            ],
            [
             0.4444444444444444,
             "#bd3786"
            ],
            [
             0.5555555555555556,
             "#d8576b"
            ],
            [
             0.6666666666666666,
             "#ed7953"
            ],
            [
             0.7777777777777778,
             "#fb9f3a"
            ],
            [
             0.8888888888888888,
             "#fdca26"
            ],
            [
             1,
             "#f0f921"
            ]
           ]
          },
          "colorway": [
           "#636efa",
           "#EF553B",
           "#00cc96",
           "#ab63fa",
           "#FFA15A",
           "#19d3f3",
           "#FF6692",
           "#B6E880",
           "#FF97FF",
           "#FECB52"
          ],
          "font": {
           "color": "#2a3f5f"
          },
          "geo": {
           "bgcolor": "white",
           "lakecolor": "white",
           "landcolor": "#E5ECF6",
           "showlakes": true,
           "showland": true,
           "subunitcolor": "white"
          },
          "hoverlabel": {
           "align": "left"
          },
          "hovermode": "closest",
          "mapbox": {
           "style": "light"
          },
          "paper_bgcolor": "white",
          "plot_bgcolor": "#E5ECF6",
          "polar": {
           "angularaxis": {
            "gridcolor": "white",
            "linecolor": "white",
            "ticks": ""
           },
           "bgcolor": "#E5ECF6",
           "radialaxis": {
            "gridcolor": "white",
            "linecolor": "white",
            "ticks": ""
           }
          },
          "scene": {
           "xaxis": {
            "backgroundcolor": "#E5ECF6",
            "gridcolor": "white",
            "gridwidth": 2,
            "linecolor": "white",
            "showbackground": true,
            "ticks": "",
            "zerolinecolor": "white"
           },
           "yaxis": {
            "backgroundcolor": "#E5ECF6",
            "gridcolor": "white",
            "gridwidth": 2,
            "linecolor": "white",
            "showbackground": true,
            "ticks": "",
            "zerolinecolor": "white"
           },
           "zaxis": {
            "backgroundcolor": "#E5ECF6",
            "gridcolor": "white",
            "gridwidth": 2,
            "linecolor": "white",
            "showbackground": true,
            "ticks": "",
            "zerolinecolor": "white"
           }
          },
          "shapedefaults": {
           "line": {
            "color": "#2a3f5f"
           }
          },
          "ternary": {
           "aaxis": {
            "gridcolor": "white",
            "linecolor": "white",
            "ticks": ""
           },
           "baxis": {
            "gridcolor": "white",
            "linecolor": "white",
            "ticks": ""
           },
           "bgcolor": "#E5ECF6",
           "caxis": {
            "gridcolor": "white",
            "linecolor": "white",
            "ticks": ""
           }
          },
          "title": {
           "x": 0.05
          },
          "xaxis": {
           "automargin": true,
           "gridcolor": "white",
           "linecolor": "white",
           "ticks": "",
           "title": {
            "standoff": 15
           },
           "zerolinecolor": "white",
           "zerolinewidth": 2
          },
          "yaxis": {
           "automargin": true,
           "gridcolor": "white",
           "linecolor": "white",
           "ticks": "",
           "title": {
            "standoff": 15
           },
           "zerolinecolor": "white",
           "zerolinewidth": 2
          }
         }
        },
        "title": {
         "font": {
          "size": 20
         },
         "text": "Confusion Matrix"
        },
        "width": 800,
        "xaxis": {
         "anchor": "y",
         "constrain": "domain",
         "domain": [
          0,
          1
         ],
         "scaleanchor": "y",
         "title": {
          "text": "Predicted Values"
         }
        },
        "yaxis": {
         "anchor": "x",
         "autorange": "reversed",
         "constrain": "domain",
         "domain": [
          0,
          1
         ],
         "title": {
          "text": "Actual Values"
         }
        }
       }
      }
     },
     "metadata": {},
     "output_type": "display_data"
    }
   ],
   "source": [
    "import plotly.express as px\n",
    "\n",
    "cf_matrix_custom = confusion_matrix(y_test, y_pred_custom_threshold)\n",
    "\n",
    "cf_matrix_custom_df = pd.DataFrame(cf_matrix_custom, \n",
    "                                   index=['Actual No Maintenance', 'Actual Needs Maintenance'], \n",
    "                                   columns=['Predicted No Maintenance', 'Predicted Needs Maintenance'])\n",
    "\n",
    "fig = px.imshow(cf_matrix_custom_df, \n",
    "                text_auto=True,  \n",
    "                color_continuous_scale='Blues', \n",
    "                labels=dict(x=\"Predicted Values\", y=\"Actual Values\", color=\"Count\"),\n",
    "                title='Confusion Matrix')\n",
    "\n",
    "fig.update_layout(\n",
    "    width=800,  \n",
    "    height=600,  \n",
    "    title_font_size=20, \n",
    ")\n",
    "\n",
    "fig.show()"
   ]
  },
  {
   "cell_type": "markdown",
   "metadata": {},
   "source": [
    "### Possible Next Steps\n",
    "\n",
    "####\t1.\tMonitor the Model in Production: Even if i don’t tweak the model further, it’s always good to monitor its performance once deployed. tracking how often false positives (and false negatives) occur in real world settings.\n",
    "####\t2.\tAdjust Over Time: If notice any issues with excessive false positives later, i could return and tweak the decision threshold or other aspects of the model."
   ]
  },
  {
   "cell_type": "markdown",
   "metadata": {},
   "source": [
    "###  Saving the Trained SVM Model"
   ]
  },
  {
   "cell_type": "code",
   "execution_count": 175,
   "metadata": {},
   "outputs": [
    {
     "name": "stdout",
     "output_type": "stream",
     "text": [
      "Model saved successfully!\n"
     ]
    }
   ],
   "source": [
    "# Save the model\n",
    "joblib.dump(best_svm_pipeline, 'svm_predictive_maintenance_model.pkl')\n",
    "print (\"Model saved successfully!\")"
   ]
  },
  {
   "cell_type": "markdown",
   "metadata": {},
   "source": [
    "#### Impact on Business:\n",
    "\n",
    "####\t•\tPositive: You’ll prevent any costly failures by catching every engine that needs maintenance.\n",
    "####\t•\tNegative: You may end up with a lot of unnecessary maintenance actions, which could increase costs and affect operational efficiency.\n",
    "\n",
    "####     What Should You Consider:\n",
    "\n",
    "####\t•\tBusiness Context: If the cost of a missed maintenance event (e.g., an engine failure) is much higher than the cost of unnecessary maintenance, this trade-off might be acceptable."
   ]
  },
  {
   "cell_type": "code",
   "execution_count": 183,
   "metadata": {},
   "outputs": [
    {
     "data": {
      "image/png": "[encoded data removed]",
      "text/plain": [
       "<Figure size 800x500 with 1 Axes>"
      ]
     },
     "metadata": {},
     "output_type": "display_data"
    }
   ],
   "source": [
    "import matplotlib.pyplot as plt\n",
    "\n",
    "# Performance metrics\n",
    "metrics = ['Precision', 'Recall', 'F1-Score']\n",
    "values = [0.6447, 0.9575, 0.7705]  \n",
    "\n",
    "# bar chart\n",
    "plt.figure(figsize=(8, 5))\n",
    "plt.barh(metrics, values, color=['#4CAF50', '#808080', '#2196F3'])  \n",
    "\n",
    "plt.xlabel('Score')\n",
    "plt.title('Performance Metrics')\n",
    "\n",
    "for index, value in enumerate(values):\n",
    "    plt.text(value, index, f\"{value:.4f}\", va='center')\n",
    "\n",
    "plt.show()"
   ]
  }
 ],
 "metadata": {
  "kernelspec": {
   "display_name": "Python 3",
   "language": "python",
   "name": "python3"
  },
  "language_info": {
   "codemirror_mode": {
    "name": "ipython",
    "version": 3
   },
   "file_extension": ".py",
   "mimetype": "text/x-python",
   "name": "python",
   "nbconvert_exporter": "python",
   "pygments_lexer": "ipython3",
   "version": "3.11.9"
  }
 },
 "nbformat": 4,
 "nbformat_minor": 2
}
